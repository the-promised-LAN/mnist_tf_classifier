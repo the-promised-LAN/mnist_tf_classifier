{
 "cells": [
  {
   "cell_type": "markdown",
   "metadata": {},
   "source": [
    "Resources and code for Keras implementation used from the following tutorial:\n",
    "https://towardsdatascience.com/image-classification-in-10-minutes-with-mnist-dataset-54c35b77a38d"
   ]
  },
  {
   "cell_type": "code",
   "execution_count": 1,
   "metadata": {
    "collapsed": true
   },
   "outputs": [],
   "source": [
    "import pandas as pd\n",
    "import matplotlib.pyplot as plt\n",
    "import tensorflow as tf\n",
    "import numpy"
   ]
  },
  {
   "cell_type": "markdown",
   "metadata": {},
   "source": [
    "## Importing and preprocessing setup data\n",
    "For using local downloaded 'ubyte' MNIST data set, take a look at the follow StackOverflow thread:\n",
    "\n",
    "https://stackoverflow.com/questions/40427435/extract-images-from-idx3-ubyte-file-or-gzip-via-python"
   ]
  },
  {
   "cell_type": "code",
   "execution_count": 2,
   "metadata": {
    "collapsed": true
   },
   "outputs": [],
   "source": [
    "# Loading data\n",
    "(x_train, y_train), (x_test, y_test) = tf.keras.datasets.mnist.load_data()"
   ]
  },
  {
   "cell_type": "code",
   "execution_count": 3,
   "metadata": {},
   "outputs": [
    {
     "name": "stdout",
     "output_type": "stream",
     "text": [
      "Label= 9\n"
     ]
    },
    {
     "data": {
      "image/png": "[encoded data removed]",
      "text/plain": [
       "<matplotlib.figure.Figure at 0x7f3803658940>"
      ]
     },
     "metadata": {},
     "output_type": "display_data"
    },
    {
     "name": "stdout",
     "output_type": "stream",
     "text": [
      "Number of images: 60000\n",
      "Image size in pixels: (28, 28)\n"
     ]
    }
   ],
   "source": [
    "# Take a look at a random example\n",
    "print('Label= '+ str(y_train[707]))\n",
    "plt.imshow(x_train[707], cmap='Greys')\n",
    "plt.show()\n",
    "\n",
    "# get shape of the data and what it actually contains\n",
    "print('Number of images: {}'.format(x_train.shape[0]))\n",
    "print('Image size in pixels: {}'.format(x_train.shape[1:]))"
   ]
  },
  {
   "cell_type": "code",
   "execution_count": 4,
   "metadata": {},
   "outputs": [
    {
     "name": "stdout",
     "output_type": "stream",
     "text": [
      "x_train.shape= (60000, 28, 28, 1)\n"
     ]
    }
   ],
   "source": [
    "# Reshaping the data, since Keras requires 4D numpy arrays\n",
    "x_train = x_train.reshape(x_train.shape[0], 28, 28, 1)\n",
    "x_test = x_test.reshape(x_test.shape[0], 28, 28, 1)\n",
    "input_shape = (28, 28, 1)\n",
    "\n",
    "# Values should be float in order to have the decimal part\n",
    "x_train = x_train.astype('float32')\n",
    "x_test = x_test.astype('float32')\n",
    "\n",
    "# Normalize by dividing by 255 since its an RGB\n",
    "x_train /= 255\n",
    "x_test /= 255\n",
    "\n",
    "print('x_train.shape= {}'.format(x_train.shape))\n"
   ]
  },
  {
   "cell_type": "markdown",
   "metadata": {},
   "source": [
    "### Creating the model architecture using Keras API\n",
    "\n",
    "The sequential model consists of:\n",
    "1. Convolutional layer with 28 filters (output), 3x3 px kernels\n",
    "2. Max pooling layer with the filter of 2x2 px\n",
    "3. Flatten layer to convert 2x2 matrix into 1D array\n",
    "4. Fully Connected layer with 128 nodes, and RELu activation\n",
    "5. Output fully connected layer with 10 nodes and SoftMax activation"
   ]
  },
  {
   "cell_type": "code",
   "execution_count": 11,
   "metadata": {
    "collapsed": true
   },
   "outputs": [],
   "source": [
    "## Building the network (using Kerasa)\n",
    "def model_architecture_keras(input_shape):\n",
    "    from keras.models import Sequential\n",
    "    from keras.layers import Dense, Conv2D, Dropout, Flatten, MaxPooling2D\n",
    "    model = Sequential()\n",
    "    model.add(Conv2D(28, kernel_size=(3,3), input_shape=input_shape))\n",
    "    model.add(MaxPooling2D(pool_size=(2,2)))\n",
    "    model.add(Flatten()) #Flattening before dense layers; used for classification\n",
    "    model.add(Dense(128, activation=tf.nn.relu))\n",
    "    model.add(Dropout(0.2))\n",
    "    model.add(Dense(10, activation=tf.nn.softmax))\n",
    "    return model"
   ]
  },
  {
   "cell_type": "markdown",
   "metadata": {},
   "source": [
    "### Training method\n",
    "Method to train the model (passed as input parameter):\n",
    "1. Uses ADAM optimizer (improved version of Gradient Descent)\n",
    "2. Uses Sparse Categorical Crossentropy for the loss function\n",
    "3. Running for 'cycles'-number of epochs"
   ]
  },
  {
   "cell_type": "code",
   "execution_count": 12,
   "metadata": {
    "collapsed": true
   },
   "outputs": [],
   "source": [
    "# Training method\n",
    "def model_training(model, cycles):\n",
    "    model.compile(\n",
    "                optimizer='adam',\n",
    "                loss='sparse_categorical_crossentropy',\n",
    "                metrics=['accuracy'])\n",
    "    model.fit(x=x_train, y=y_train, epochs=cycles)\n",
    "    return model"
   ]
  },
  {
   "cell_type": "markdown",
   "metadata": {},
   "source": [
    "### Individual prediction from the x_train dataset"
   ]
  },
  {
   "cell_type": "code",
   "execution_count": 45,
   "metadata": {},
   "outputs": [],
   "source": [
    "# Method for individual prediction for a model from the dataset (from x_test)\n",
    "def predict(model, index):\n",
    "    plt.imshow(x_test[index].reshape(28,28), cmap='Greys')\n",
    "    plt.show()\n",
    "    pred = model.predict(x_test[index].reshape(1, 28, 28, 1))\n",
    "    print('All accuracies: \\n{}'.format(pred))\n",
    "    print('\\nPredicted value: {}'.format(pred.argmax()))"
   ]
  },
  {
   "cell_type": "markdown",
   "metadata": {},
   "source": [
    "### Accurary evaluation for the entire dataset"
   ]
  },
  {
   "cell_type": "code",
   "execution_count": 14,
   "metadata": {
    "collapsed": true
   },
   "outputs": [],
   "source": [
    "def model_eval(x_test, y_test, model):\n",
    "    model.evaluate(x_test, y_test)"
   ]
  },
  {
   "cell_type": "markdown",
   "metadata": {},
   "source": [
    "### Creating the model, training, and evaluating"
   ]
  },
  {
   "cell_type": "code",
   "execution_count": 15,
   "metadata": {},
   "outputs": [
    {
     "name": "stderr",
     "output_type": "stream",
     "text": [
      "Using TensorFlow backend.\n"
     ]
    }
   ],
   "source": [
    "# Create the model\n",
    "model = model_architecture_keras(input_shape)"
   ]
  },
  {
   "cell_type": "code",
   "execution_count": 17,
   "metadata": {},
   "outputs": [
    {
     "name": "stdout",
     "output_type": "stream",
     "text": [
      "Epoch 1/1\n",
      "60000/60000 [==============================] - 85s 1ms/step - loss: 0.0370 - acc: 0.9879\n"
     ]
    }
   ],
   "source": [
    "# Train\n",
    "modelFinal = model_training(model, 1)"
   ]
  },
  {
   "cell_type": "code",
   "execution_count": 19,
   "metadata": {},
   "outputs": [
    {
     "name": "stdout",
     "output_type": "stream",
     "text": [
      "10000/10000 [==============================] - 4s 406us/step\n"
     ]
    }
   ],
   "source": [
    "# Evaulate final model\n",
    "model_eval(x_test, y_test, modelFinal)"
   ]
  },
  {
   "cell_type": "code",
   "execution_count": 46,
   "metadata": {},
   "outputs": [
    {
     "data": {
      "image/png": "[encoded data removed]",
      "text/plain": [
       "<matplotlib.figure.Figure at 0x7f37ebe6e630>"
      ]
     },
     "metadata": {},
     "output_type": "display_data"
    },
    {
     "name": "stdout",
     "output_type": "stream",
     "text": [
      "All accuracies: \n",
      "[[  2.56636536e-13   1.24019447e-13   7.08709064e-11   5.26931654e-09\n",
      "    3.79402954e-05   1.71206935e-07   3.11974898e-15   1.46062287e-10\n",
      "    9.06080277e-09   9.99961853e-01]]\n",
      "\n",
      "Predicted value: 9\n"
     ]
    }
   ],
   "source": [
    "# Evaluate accuracy on single example\n",
    "index = 4444\n",
    "predict(modelFinal, index)"
   ]
  },
  {
   "cell_type": "code",
   "execution_count": null,
   "metadata": {
    "collapsed": true
   },
   "outputs": [],
   "source": []
  }
 ],
 "metadata": {
  "kernelspec": {
   "display_name": "Python 3",
   "language": "python",
   "name": "python3"
  },
  "language_info": {
   "codemirror_mode": {
    "name": "ipython",
    "version": 3
   },
   "file_extension": ".py",
   "mimetype": "text/x-python",
   "name": "python",
   "nbconvert_exporter": "python",
   "pygments_lexer": "ipython3",
   "version": "3.6.3"
  }
 },
 "nbformat": 4,
 "nbformat_minor": 2
}
